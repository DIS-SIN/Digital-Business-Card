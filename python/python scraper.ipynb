{
 "cells": [
  {
   "cell_type": "code",
   "execution_count": 1,
   "metadata": {
    "scrolled": true
   },
   "outputs": [],
   "source": [
    "import pandas as pd\n",
    "import dominate\n",
    "from dominate.tags import *\n",
    "from dominate.util import raw\n",
    "# Control delimiters, rows, column names with read_csv (see later) \n",
    "data = pd.read_csv('Corresponding details - Sheet1.csv' ) \n",
    "# Preview the first 5 lines of the loaded data \n"
   ]
  },
  {
   "cell_type": "code",
   "execution_count": 2,
   "metadata": {},
   "outputs": [],
   "source": [
    "def createProfilecard(firstName,lastName,jobTitle,number,email,twitter,linkedin,github):\n",
    "        with div(cls='column') as d:\n",
    "            with div(cls=\"card\"):\n",
    "                img(src='www.google.com' ,alt=\"Jane\" ,style=\"width:100%\")\n",
    "                with div(cls=\"container\"):\n",
    "                    name= firstName + ' '+ lastName\n",
    "                    h2(name)\n",
    "                    p(jobTitle,cls='title')\n",
    "                    p(number)\n",
    "                    p(email)\n",
    "                    createSocialIcons(email,twitter,linkedin,github)\n",
    "                    raw('<button class=\"button\">Contact</button>')\n",
    "                    \n",
    "                    \n",
    "        return d"
   ]
  },
  {
   "cell_type": "code",
   "execution_count": 3,
   "metadata": {},
   "outputs": [],
   "source": [
    "def findPersonImage(firstName,lastName):\n",
    "        return 'things.png'"
   ]
  },
  {
   "cell_type": "code",
   "execution_count": 4,
   "metadata": {},
   "outputs": [],
   "source": [
    "def createSocialIcons(email,twitter,linkedin,github):\n",
    "    with div(cls=\"social-icons\") as d:\n",
    "        email='mailto:'+email\n",
    "        with a(href=email):\n",
    "            i(cls=\"fa fa-envelope\")\n",
    "            \n",
    "        with a(href=twitter,):\n",
    "                i(cls=\"fa fa-envelope\")\n",
    "                \n",
    "        with a(href=linkedin ,):\n",
    "                i(cls=\"fa fa-envelope\")\n",
    "                \n",
    "        with a(href=github):\n",
    "                i(cls=\"fa fa-envelope\")\n",
    "        \n",
    "        return d      "
   ]
  },
  {
   "cell_type": "code",
   "execution_count": 5,
   "metadata": {},
   "outputs": [],
   "source": [
    "def createMeetTheTeamPage():\n",
    "    data = pd.read_csv('Corresponding details - Sheet1.csv' ) \n",
    "    for index, row in data.iterrows():\n",
    "        a=createProfilecard(row[0],row[1],row[2],row[3],row[4],row[5],row[6],row[7])\n",
    "        print(a)"
   ]
  },
  {
   "cell_type": "code",
   "execution_count": 6,
   "metadata": {},
   "outputs": [],
   "source": [
    "def nameHasPicture(name,listNames):\n",
    "    for x in listNames:\n",
    "        if name.lower() in x.lower():\n",
    "            return x\n",
    "    return False"
   ]
  },
  {
   "cell_type": "code",
   "execution_count": 7,
   "metadata": {},
   "outputs": [
    {
     "name": "stdout",
     "output_type": "stream",
     "text": [
      "yes we found a pic for Amanda  Bernardo\n",
      "yes we found a pic for Tom Camps\n",
      "yes we found a pic for Louise  Côté\n",
      "no pic for Isa\n",
      "yes we found a pic for Liz McKeown\n",
      "{'Amanda Bernardo': 'Amanda Bernardo.jpg', 'TomCamps': 'Tom Camps.JPG', 'Louise Côté': 'Louise Cote.jpg', 'LizMcKeown': 'Liz McKeown.jpg'}\n"
     ]
    }
   ],
   "source": [
    "import os\n",
    "listOfPics=os.listdir('./pics') \n",
    "namePic={}\n",
    "for index ,row in data.iterrows():\n",
    "    fName=row[0]\n",
    "    lName=row[1]\n",
    " \n",
    "    if (nameHasPicture(fName,listOfPics)):\n",
    "        print('yes we found a pic for ' + fName +' '+ lName)\n",
    "        namePic[fName+lName]=nameHasPicture(fName,listOfPics)\n",
    "    else:\n",
    "        print('no pic for ' + fName)\n",
    "            \n",
    "print(namePic)"
   ]
  },
  {
   "cell_type": "code",
   "execution_count": null,
   "metadata": {},
   "outputs": [],
   "source": []
  },
  {
   "cell_type": "code",
   "execution_count": null,
   "metadata": {},
   "outputs": [],
   "source": []
  }
 ],
 "metadata": {
  "kernelspec": {
   "display_name": "Python 3",
   "language": "python",
   "name": "python3"
  },
  "language_info": {
   "codemirror_mode": {
    "name": "ipython",
    "version": 3
   },
   "file_extension": ".py",
   "mimetype": "text/x-python",
   "name": "python",
   "nbconvert_exporter": "python",
   "pygments_lexer": "ipython3",
   "version": "3.6.8"
  }
 },
 "nbformat": 4,
 "nbformat_minor": 2
}
